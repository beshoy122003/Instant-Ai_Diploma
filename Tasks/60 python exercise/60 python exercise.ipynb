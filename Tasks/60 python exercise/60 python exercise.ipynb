{
 "cells": [
  {
   "cell_type": "markdown",
   "id": "759d04ba",
   "metadata": {},
   "source": [
    "**1-Write a Python program to calculate the length of a string using 2 ways"
   ]
  },
  {
   "cell_type": "code",
   "execution_count": 1,
   "id": "e434c950",
   "metadata": {},
   "outputs": [
    {
     "name": "stdout",
     "output_type": "stream",
     "text": [
      "6\n"
     ]
    }
   ],
   "source": [
    "s=\"String\"\n",
    "print(len(s))"
   ]
  },
  {
   "cell_type": "code",
   "execution_count": 2,
   "id": "7a2dfa32",
   "metadata": {},
   "outputs": [
    {
     "name": "stdout",
     "output_type": "stream",
     "text": [
      "6\n"
     ]
    }
   ],
   "source": [
    "s=\"String\"\n",
    "count=0\n",
    "for i in s:\n",
    "    count+=1\n",
    "print(count)"
   ]
  },
  {
   "cell_type": "markdown",
   "id": "d7cc9da7",
   "metadata": {},
   "source": [
    "**2-Write a Python program to get a string made of the first 2 and last 2 characters of a given string. If the string length is less than 2, return the empty string instead (\"##Sample String : 'w3resource'\n",
    "Expected Result : 'w3ce'\n",
    "##Sample String : 'w3'\n",
    "Expected Result : 'w3w3'\n",
    "##Sample String : ' w'\n",
    "Expected Result : Empty String)"
   ]
  },
  {
   "cell_type": "code",
   "execution_count": 3,
   "id": "dafa9dd8",
   "metadata": {},
   "outputs": [
    {
     "name": "stdout",
     "output_type": "stream",
     "text": [
      "kojd\n"
     ]
    }
   ],
   "source": [
    "n=input(\"\")\n",
    "if len(n)>=2:\n",
    " print(n[:2]+n[-2:])\n",
    "else:\n",
    "    print(\"Empty String\")"
   ]
  },
  {
   "cell_type": "markdown",
   "id": "1534f956",
   "metadata": {},
   "source": [
    "**3-Write a Python program to add 'ing' at the end of a given string (length should be at least 3). If the given string already ends with 'ing', add 'ly' instead. If the string length of the given string is less than 3, leave it unchanged. (Sample String : 'abc'\n",
    "Expected Result : 'abcing')"
   ]
  },
  {
   "cell_type": "code",
   "execution_count": 4,
   "id": "7ff8cec4",
   "metadata": {},
   "outputs": [
    {
     "name": "stdout",
     "output_type": "stream",
     "text": [
      "playly\n"
     ]
    }
   ],
   "source": [
    "while True:\n",
    "    n=input(\"\")\n",
    "    if n[-3:]==\"ing\":\n",
    "        n=n.replace(\"ing\",\"ly\")\n",
    "    elif len(n) >=3:\n",
    "        n=''.join([n,\"ing\"])\n",
    "    else:\n",
    "        break\n",
    "    print(n)"
   ]
  },
  {
   "cell_type": "markdown",
   "id": "1c0a6627",
   "metadata": {},
   "source": [
    "**4-Write a Python function that takes a list of words and return the longest word and the length of the longest one\n",
    "(Longest word: Exercises\n",
    "Length of the longest word: 9)"
   ]
  },
  {
   "cell_type": "code",
   "execution_count": 7,
   "id": "397341d9",
   "metadata": {},
   "outputs": [
    {
     "name": "stdout",
     "output_type": "stream",
     "text": [
      "('tomato', 6)\n"
     ]
    }
   ],
   "source": [
    "def resu(n):\n",
    "    le=0\n",
    "    ou=\"\"\n",
    "    for i in n:\n",
    "        if len(i) > le:\n",
    "            le = len(i)\n",
    "            ou=i\n",
    "    return ou,le\n",
    "def main():\n",
    "    inp=input(\"\")\n",
    "    words=inp.split()\n",
    "    outt =resu(words)\n",
    "    print(outt)\n",
    "main()"
   ]
  },
  {
   "cell_type": "markdown",
   "id": "53a03a6a",
   "metadata": {},
   "source": [
    "**5-Write a Python program to change a given string to a newly string where the first and last chars have been exchanged using 2 ways (Sample String:abca  Expected Result:ebce)"
   ]
  },
  {
   "cell_type": "code",
   "execution_count": 127,
   "id": "fd327d2a",
   "metadata": {},
   "outputs": [
    {
     "name": "stdout",
     "output_type": "stream",
     "text": [
      "rma\n"
     ]
    }
   ],
   "source": [
    "n=input(\"\")\n",
    "out=list(n)\n",
    "out[0],out[-1]=out[-1],out[0]\n",
    "print(''.join(out))"
   ]
  },
  {
   "cell_type": "code",
   "execution_count": 128,
   "id": "285788b4",
   "metadata": {},
   "outputs": [
    {
     "name": "stdout",
     "output_type": "stream",
     "text": [
      "rma\n"
     ]
    }
   ],
   "source": [
    "n=input(\"\")\n",
    "out=n[-1]+n[1:-1]+n[0]\n",
    "print(out)"
   ]
  },
  {
   "cell_type": "markdown",
   "id": "25f89808",
   "metadata": {},
   "source": [
    "**6-Write a Python program to remove characters that have odd index values in a given string (Sample String:abca Expected Result:ac)"
   ]
  },
  {
   "cell_type": "code",
   "execution_count": 6,
   "id": "05959bd7",
   "metadata": {},
   "outputs": [
    {
     "name": "stdout",
     "output_type": "stream",
     "text": [
      "ac\n"
     ]
    }
   ],
   "source": [
    "n=input(\"\")\n",
    "i=0\n",
    "out=\"\"\n",
    "while i < len(n):\n",
    "    if i%2==0:\n",
    "        out += n[i]\n",
    "    i+=1\n",
    "print(out)"
   ]
  },
  {
   "cell_type": "markdown",
   "id": "eb16e898",
   "metadata": {},
   "source": [
    "**7-Write a Python program to count the occurrences of each word in a given sentence (Sample String:amr and ahmed are frindes but amr is the tallest Expected Result:2)"
   ]
  },
  {
   "cell_type": "code",
   "execution_count": 9,
   "id": "01ce6cf5",
   "metadata": {},
   "outputs": [
    {
     "name": "stdout",
     "output_type": "stream",
     "text": [
      "hello 2\n"
     ]
    }
   ],
   "source": [
    "statment=input(\"\").split()\n",
    "words={}\n",
    "for word in statment:\n",
    "    if word in words:\n",
    "        words[word]+=1\n",
    "    else:\n",
    "        words[word]=1\n",
    "max_word=max(words,key=words.get)\n",
    "print(f\"{max_word} {words[max_word]}\")"
   ]
  },
  {
   "cell_type": "markdown",
   "id": "4e8125f1",
   "metadata": {},
   "source": [
    "**8-Write a Python script that takes input from the user and displays that input back in upper and lower cases"
   ]
  },
  {
   "cell_type": "code",
   "execution_count": 10,
   "id": "66c8f778",
   "metadata": {},
   "outputs": [
    {
     "name": "stdout",
     "output_type": "stream",
     "text": [
      "GHJLO ghjlo\n"
     ]
    }
   ],
   "source": [
    "n=input(\"\")\n",
    "print(f\"{n.upper()} {n.lower()}\")"
   ]
  },
  {
   "cell_type": "markdown",
   "id": "fcd68aa1",
   "metadata": {},
   "source": [
    "**9-Write a Python function to reverse a string if its length is a multiple of 4"
   ]
  },
  {
   "cell_type": "code",
   "execution_count": 21,
   "id": "0671a931",
   "metadata": {},
   "outputs": [
    {
     "name": "stdout",
     "output_type": "stream",
     "text": [
      "rima\n"
     ]
    }
   ],
   "source": [
    "# def resu(n):\n",
    "#     if len(n)%4==0:\n",
    "#          n=n[::-1]\n",
    "#     return n\n",
    "# inp=input(\"\")\n",
    "# ot=resu(inp)\n",
    "# print(ot)\n",
    "\n",
    "\n",
    "def resu(n):\n",
    "    if len(n)%4==0:\n",
    "        n.reverse()\n",
    "    return n\n",
    "inp=input(\"\")\n",
    "ot=resu(list(inp))\n",
    "print(''.join(ot))"
   ]
  },
  {
   "cell_type": "markdown",
   "id": "b577c68d",
   "metadata": {},
   "source": [
    "**10- Write a Python program to remove a newline in Python"
   ]
  },
  {
   "cell_type": "code",
   "execution_count": 27,
   "id": "e0c6525a",
   "metadata": {},
   "outputs": [
    {
     "name": "stdout",
     "output_type": "stream",
     "text": [
      "Hello everyone my name is \n",
      "Hello everyone my name is \n"
     ]
    }
   ],
   "source": [
    "n=\"Hello \\neveryone \\nmy name is \"\n",
    "n=n.replace(\"\\n\",\"\")\n",
    "print(n)\n",
    "\n",
    "h=\"Hello \\neveryone \\nmy name is \"\n",
    "h=''.join(h.splitlines())\n",
    "print(h)"
   ]
  },
  {
   "cell_type": "markdown",
   "id": "80db5ae0",
   "metadata": {},
   "source": [
    "**11-Write a Python program to check whether a string starts with specified characters"
   ]
  },
  {
   "cell_type": "code",
   "execution_count": 29,
   "id": "0cc4e03e",
   "metadata": {},
   "outputs": [
    {
     "name": "stdout",
     "output_type": "stream",
     "text": [
      "word don't start with a\n"
     ]
    }
   ],
   "source": [
    "n=input(\"\")\n",
    "if n[0]=='a':\n",
    "    print(\"word start witah a \")\n",
    "else :\n",
    "    print(\"word don't start with a\")"
   ]
  },
  {
   "cell_type": "markdown",
   "id": "593a68db",
   "metadata": {},
   "source": [
    "**12- Write a Python program to add prefix text to all of the lines in a string"
   ]
  },
  {
   "cell_type": "code",
   "execution_count": 129,
   "id": "d2e46ada",
   "metadata": {},
   "outputs": [
    {
     "name": "stdout",
     "output_type": "stream",
     "text": [
      "amrwarda\n"
     ]
    }
   ],
   "source": [
    "n=input(\"\")\n",
    "p=input(\"\")\n",
    "print(n+p)"
   ]
  },
  {
   "cell_type": "markdown",
   "id": "86fa1543",
   "metadata": {},
   "source": [
    "**13-Write a Python program to print the following numbers up to 2 decimal places"
   ]
  },
  {
   "cell_type": "code",
   "execution_count": 130,
   "id": "cd4a9d89",
   "metadata": {},
   "outputs": [
    {
     "name": "stdout",
     "output_type": "stream",
     "text": [
      "2.00\n"
     ]
    }
   ],
   "source": [
    "n=2\n",
    "print(\"{:.2f}\".format(n))"
   ]
  },
  {
   "cell_type": "markdown",
   "id": "452c0ab0",
   "metadata": {},
   "source": [
    "**14-Write a Python program to print the following numbers up to 2 decimal places with a sign"
   ]
  },
  {
   "cell_type": "code",
   "execution_count": 132,
   "id": "73e82479",
   "metadata": {},
   "outputs": [
    {
     "name": "stdout",
     "output_type": "stream",
     "text": [
      "5.45 -4.25\n"
     ]
    }
   ],
   "source": [
    "pn=float(input(\"\"))\n",
    "nn=float(input(\"\"))\n",
    "print(\"{:.2f}\".format(pn),\"{:.2f}\".format(nn))"
   ]
  },
  {
   "cell_type": "markdown",
   "id": "32b1811a",
   "metadata": {},
   "source": [
    "**15-Write a Python program to display a number with a comma separator"
   ]
  },
  {
   "cell_type": "code",
   "execution_count": 37,
   "id": "f30fc0b6",
   "metadata": {},
   "outputs": [
    {
     "name": "stdout",
     "output_type": "stream",
     "text": [
      "1,2,3,4,5,6\n",
      "['1,2,3,4,5,6']\n"
     ]
    }
   ],
   "source": [
    "n=input(\"\")\n",
    "n=list(str(n))\n",
    "n=','.join(n)\n",
    "print(n)\n",
    "print(n.splitlines())"
   ]
  },
  {
   "cell_type": "markdown",
   "id": "0477f487",
   "metadata": {},
   "source": [
    "**16-Write a Python program to reverse a string using 2 ways"
   ]
  },
  {
   "cell_type": "code",
   "execution_count": null,
   "id": "aa8beec8",
   "metadata": {},
   "outputs": [],
   "source": [
    "n=input(\"\")\n",
    "# n=list(n)\n",
    "# n.reverse()\n",
    "# print(''.join(n))\n",
    " \n",
    "print(n[::-1])"
   ]
  },
  {
   "cell_type": "markdown",
   "id": "5afc3166",
   "metadata": {},
   "source": [
    " **17-Write a Python program to count repeated characters in a string (hint:use dictionary)"
   ]
  },
  {
   "cell_type": "code",
   "execution_count": 42,
   "id": "515a469c",
   "metadata": {},
   "outputs": [
    {
     "name": "stdout",
     "output_type": "stream",
     "text": [
      "{'a': 2, 'h': 2, 'm': 2, 'e': 1, 'd': 1}\n"
     ]
    }
   ],
   "source": [
    "n=input(\"\")\n",
    "dic={}\n",
    "for chr in n:\n",
    "    if chr in dic:\n",
    "        dic[chr]+=1\n",
    "    else:\n",
    "        dic[chr]=1\n",
    "print(dic)"
   ]
  },
  {
   "cell_type": "markdown",
   "id": "ae14e4e5",
   "metadata": {},
   "source": [
    "**18-Write a Python program to find the first non-repeating character in a given string"
   ]
  },
  {
   "cell_type": "code",
   "execution_count": 45,
   "id": "d73778e5",
   "metadata": {},
   "outputs": [
    {
     "name": "stdout",
     "output_type": "stream",
     "text": [
      "s\n"
     ]
    }
   ],
   "source": [
    "n=input(\"\")\n",
    "dic={}\n",
    "for chr in n:\n",
    "    if chr in dic:\n",
    "        dic[chr]+=1\n",
    "    else:\n",
    "        dic[chr]=1\n",
    "for chr in n:\n",
    "    if dic[chr]==1:\n",
    "      print(chr)\n",
    "      break\n"
   ]
  },
  {
   "cell_type": "markdown",
   "id": "3adf5669",
   "metadata": {},
   "source": [
    "**19-Write a Python program to remove spaces from a given string"
   ]
  },
  {
   "cell_type": "code",
   "execution_count": 46,
   "id": "b4f22602",
   "metadata": {},
   "outputs": [
    {
     "name": "stdout",
     "output_type": "stream",
     "text": [
      "jnff;l\n"
     ]
    }
   ],
   "source": [
    "n=input(\"\").strip()\n",
    "print (n)"
   ]
  },
  {
   "cell_type": "markdown",
   "id": "734de60c",
   "metadata": {},
   "source": [
    "**20-Write a Python program to count the number of non-empty substrings of a given string"
   ]
  },
  {
   "cell_type": "code",
   "execution_count": 97,
   "id": "ef3f2274",
   "metadata": {},
   "outputs": [
    {
     "name": "stdout",
     "output_type": "stream",
     "text": [
      "abc\n",
      "acb\n",
      "bac\n",
      "bca\n",
      "cab\n",
      "cba\n"
     ]
    }
   ],
   "source": [
    "import itertools\n",
    "n=input(\"\")\n",
    "out=itertools.permutations(n)\n",
    "for res in out:\n",
    "    print(''.join(res))"
   ]
  },
  {
   "cell_type": "markdown",
   "id": "509998e2",
   "metadata": {},
   "source": [
    "**21-write a Python program to swap first and last element of any list."
   ]
  },
  {
   "cell_type": "code",
   "execution_count": 55,
   "id": "68692d7f",
   "metadata": {},
   "outputs": [
    {
     "name": "stdout",
     "output_type": "stream",
     "text": [
      "yara bos amr nahd ashr\n"
     ]
    }
   ],
   "source": [
    "n=input(\"\").split()\n",
    "if len(n)>=2:\n",
    "    n[0],n[-1]=n[-1],n[0]\n",
    "print(' '.join(n))"
   ]
  },
  {
   "cell_type": "markdown",
   "id": "959e0837",
   "metadata": {},
   "source": [
    "**22-Given a list in Python and provided the positions of the elements, write a program to swap the two elements in the list. (Input : List = [23, 65, 19, 90], pos1 = 1, pos2 = 3\n",
    "Output : [19, 65, 23, 90])"
   ]
  },
  {
   "cell_type": "code",
   "execution_count": 58,
   "id": "225d8c6d",
   "metadata": {},
   "outputs": [
    {
     "name": "stdout",
     "output_type": "stream",
     "text": [
      "['10', '40', '30', '20', '50', '60']\n"
     ]
    }
   ],
   "source": [
    "n=list(input(\"\").split(','))\n",
    "p1=int(input(\"pass1= \"))\n",
    "p2=int(input(\"pass2: \"))\n",
    "n[p1],n[p2]=n[p2],n[p1]\n",
    "print(n)"
   ]
  },
  {
   "cell_type": "markdown",
   "id": "66fc6682",
   "metadata": {},
   "source": [
    "**23- search for the all ways to know the length of the list"
   ]
  },
  {
   "cell_type": "code",
   "execution_count": 59,
   "id": "63ff8b43",
   "metadata": {},
   "outputs": [
    {
     "name": "stdout",
     "output_type": "stream",
     "text": [
      "9\n",
      "9\n",
      "9\n",
      "9\n"
     ]
    }
   ],
   "source": [
    "in_list=[1,2,3,4,5,6,7,8,9]\n",
    "count=0\n",
    "for _ in in_list:\n",
    "    count+=1\n",
    "print(count)\n",
    "#0r\n",
    "print(len(in_list))\n",
    "#or\n",
    "print(len([x for x in in_list]))\n",
    "#or\n",
    "print(len(set(in_list)))"
   ]
  },
  {
   "cell_type": "markdown",
   "id": "a237d56e",
   "metadata": {},
   "source": [
    "**24-write a Python code to find the Maximum number of list of numbers."
   ]
  },
  {
   "cell_type": "code",
   "execution_count": 60,
   "id": "15f342de",
   "metadata": {},
   "outputs": [
    {
     "name": "stdout",
     "output_type": "stream",
     "text": [
      "9\n"
     ]
    }
   ],
   "source": [
    "in_list=[4,2,3,1,5,9,7,8,6]\n",
    "mx_num=max(in_list)\n",
    "print(mx_num)\n",
    "#and can solve by loop"
   ]
  },
  {
   "cell_type": "markdown",
   "id": "1a89b9d3",
   "metadata": {},
   "source": [
    "**25-write a Python code to find the Minimum number of list of numbers."
   ]
  },
  {
   "cell_type": "code",
   "execution_count": 61,
   "id": "21f8cbd6",
   "metadata": {},
   "outputs": [
    {
     "name": "stdout",
     "output_type": "stream",
     "text": [
      "1\n"
     ]
    }
   ],
   "source": [
    "in_list=[4,2,3,1,5,9,7,8,6]\n",
    "mu_num=min(in_list)\n",
    "print(mu_num)\n",
    "#and can solve by loop"
   ]
  },
  {
   "cell_type": "markdown",
   "id": "96822d96",
   "metadata": {},
   "source": [
    "**26-search for if an elem is existing in list"
   ]
  },
  {
   "cell_type": "code",
   "execution_count": 64,
   "id": "51ca5c9a",
   "metadata": {},
   "outputs": [
    {
     "name": "stdout",
     "output_type": "stream",
     "text": [
      "5 existed in the list\n"
     ]
    }
   ],
   "source": [
    "in_list=[4,2,3,1,5,9,7,8,6]\n",
    "if 5 in in_list:\n",
    "    print(\"5 existed in the list\")\n",
    "else: \n",
    "        print(\"5 not existed in the list\")"
   ]
  },
  {
   "cell_type": "markdown",
   "id": "d9557da7",
   "metadata": {},
   "source": [
    "**27- clear python list using different ways"
   ]
  },
  {
   "cell_type": "code",
   "execution_count": 69,
   "id": "b69858a3",
   "metadata": {},
   "outputs": [
    {
     "name": "stdout",
     "output_type": "stream",
     "text": [
      "[]\n"
     ]
    }
   ],
   "source": [
    "in_list=[4,2,3,1,5,9,7,8,6]\n",
    "# in_list.clear()\n",
    "# in_list=[]\n",
    "while in_list:\n",
    "    in_list.pop()\n",
    "print(in_list)"
   ]
  },
  {
   "cell_type": "markdown",
   "id": "52160e88",
   "metadata": {},
   "source": [
    "**28-remove duplicated elements from a list"
   ]
  },
  {
   "cell_type": "code",
   "execution_count": 71,
   "id": "5e362228",
   "metadata": {},
   "outputs": [
    {
     "name": "stdout",
     "output_type": "stream",
     "text": [
      "[1, 2, 3, 4, 5, 6, 7, 8]\n"
     ]
    }
   ],
   "source": [
    "n=[1,2,3,3,4,5,5,6,7,8,8,8]\n",
    "# out=set(n)\n",
    "out=list(dict.fromkeys(n))#method to create a dictionary from the list, with the elements of the list as keys.\n",
    "#Since dictionaries cannot have duplicate keys, this automatically removes duplicate elements.\n",
    "print(out)\n"
   ]
  },
  {
   "cell_type": "markdown",
   "id": "282337f7",
   "metadata": {},
   "source": [
    "**29-Given list values and keys list, convert these values to key value pairs in form of list of dictionaries. (Input : test_list = [“Gfg”, 3, “is”, 8], key_list = [“name”, “id”]\n",
    "Output : [{‘name’: ‘Gfg’, ‘id’: 3}, {‘name’: ‘is’, ‘id’: 8}])"
   ]
  },
  {
   "cell_type": "code",
   "execution_count": 73,
   "id": "4d4e2d28",
   "metadata": {},
   "outputs": [
    {
     "name": "stdout",
     "output_type": "stream",
     "text": [
      "[{'name': 'amr', 'id': 3}, {'name': 'is', 'id': 8}]\n"
     ]
    }
   ],
   "source": [
    "test_list =[\"amr\",3,\"is\",8]\n",
    "Key_list=[\"name\",\"id\"]\n",
    "out=[]\n",
    "for i in range(0,len(test_list),2):\n",
    "    dic={}\n",
    "    dic[Key_list[0]]=test_list[i]\n",
    "    dic[Key_list[1]]=test_list[i+1]\n",
    "    out.append(dic)\n",
    "print(out)\n"
   ]
  },
  {
   "cell_type": "markdown",
   "id": "c26b6e9f",
   "metadata": {},
   "source": [
    "**30-write a python program to count unique values inside a list using different ways"
   ]
  },
  {
   "cell_type": "code",
   "execution_count": 77,
   "id": "72132667",
   "metadata": {},
   "outputs": [
    {
     "name": "stdout",
     "output_type": "stream",
     "text": [
      "4\n"
     ]
    }
   ],
   "source": [
    "test_list=['a','b','c','a','a','b','f','d','a','f','t','y','u','b']\n",
    "uniq='a'\n",
    "# count=0\n",
    "# for item in test_list:\n",
    "#     if item == uniq:\n",
    "#       count+=1\n",
    "# print(count)\n",
    "\n",
    "dic={}\n",
    "for chr in test_list:\n",
    "    if chr in dic:\n",
    "        dic[chr]+=1\n",
    "    else:\n",
    "        dic[chr]=1\n",
    "print(dic[uniq])"
   ]
  },
  {
   "cell_type": "markdown",
   "id": "fed6677c",
   "metadata": {},
   "source": [
    "**31-write a python program Extract all elements with Frequency greater than K (Input : test_list = [4, 6, 4, 3, 3, 4, 3, 4, 3, 8], K = 3 \n",
    "Output : [4, 3] )"
   ]
  },
  {
   "cell_type": "code",
   "execution_count": 84,
   "id": "d81f3f9d",
   "metadata": {},
   "outputs": [
    {
     "name": "stdout",
     "output_type": "stream",
     "text": [
      "[4, 3]\n"
     ]
    }
   ],
   "source": [
    "test_list = [4, 6, 4, 3, 3, 4, 3, 4, 3, 8] \n",
    "K = 3\n",
    "dic={}\n",
    "\n",
    "for i in test_list:\n",
    "    if i in dic:\n",
    "        dic[i]+=1\n",
    "    else:\n",
    "        dic[i]=1\n",
    "\n",
    "out_list=[]\n",
    "for x in dic:\n",
    "    if dic[x] > K:\n",
    "        out_list.append(x)\n",
    "\n",
    "print(out_list)"
   ]
  },
  {
   "cell_type": "markdown",
   "id": "caca5224",
   "metadata": {},
   "source": [
    "**32-write a python program to find the Strongest Neighbour (Input: 1 2 2 3 4 5\n",
    "Output: 2 2 3 4 5)"
   ]
  },
  {
   "cell_type": "code",
   "execution_count": 9,
   "id": "39fbd9b2",
   "metadata": {},
   "outputs": [
    {
     "name": "stdout",
     "output_type": "stream",
     "text": [
      "[2, 2, 3, 4, 5, 6]\n"
     ]
    }
   ],
   "source": [
    "\n",
    "inp = [1, 2, 2, 3, 4, 5, 6]\n",
    "res = []\n",
    "\n",
    "for i in range(len(inp)-1):\n",
    "    if inp[i] <= inp[i+1]:\n",
    "        res.append(inp[i+1])\n",
    "print(res)"
   ]
  },
  {
   "cell_type": "markdown",
   "id": "a9fa8baf",
   "metadata": {},
   "source": [
    "**33-write a Python Program to print all Possible Combinations from the three Digits (Input: [1, 2, 3]\n",
    "Output:\n",
    "1 2 3 ##\n",
    "1 3 2 ##\n",
    "2 1 3 ##\n",
    "2 3 1 ##\n",
    "3 1 2 ##\n",
    "3 2 1)"
   ]
  },
  {
   "cell_type": "code",
   "execution_count": 104,
   "id": "8c520a76",
   "metadata": {},
   "outputs": [
    {
     "name": "stdout",
     "output_type": "stream",
     "text": [
      "123\n",
      "132\n",
      "213\n",
      "231\n",
      "312\n",
      "321\n"
     ]
    }
   ],
   "source": [
    "import itertools\n",
    "n=[1,2,3]\n",
    "i=''.join(map(str,n))\n",
    "out=itertools.permutations(i)\n",
    "for pre in out:\n",
    "  print(''.join(pre))"
   ]
  },
  {
   "cell_type": "markdown",
   "id": "5288bb89",
   "metadata": {},
   "source": [
    "**34-write a Python program to find all the Combinations in the list with the given condition (Input: test_list = [1,2,3] \n",
    "Output: \n",
    " [1], [1, 2], [1, 2, 3], [1, 3]\n",
    " [2], [2, 3], [3])"
   ]
  },
  {
   "cell_type": "code",
   "execution_count": 118,
   "id": "59b89646",
   "metadata": {},
   "outputs": [
    {
     "name": "stdout",
     "output_type": "stream",
     "text": [
      "[1]\n",
      "[2]\n",
      "[3]\n",
      "[1, 2]\n",
      "[1, 3]\n",
      "[2, 3]\n",
      "[1, 2, 3]\n"
     ]
    }
   ],
   "source": [
    "# test_list=[1,2,3]\n",
    "# for i in range(len(test_list)):\n",
    "#     for j in range(i,len(test_list)):\n",
    "#         print(list(set([test_list[i],test_list[j]])))\n",
    "\n",
    "import itertools\n",
    "\n",
    "test_list = [1, 2, 3]\n",
    "for r in range(1, len(test_list) + 1):\n",
    "    for combination in itertools.combinations(test_list, r):\n",
    "        print(list(combination))\n"
   ]
  },
  {
   "cell_type": "markdown",
   "id": "39973705",
   "metadata": {},
   "source": [
    "**35-write a Python program to get all unique combinations of two Lists (List_1 = [\"a\",\"b\"]\n",
    "List_2 = [1,2]\n",
    "Unique_combination = [[('a',1),('b',2)],[('a',2),('b',1)]] )"
   ]
  },
  {
   "cell_type": "code",
   "execution_count": 125,
   "id": "8c4ba22b",
   "metadata": {},
   "outputs": [
    {
     "name": "stdout",
     "output_type": "stream",
     "text": [
      "[('a', 1), ('a', 2), ('b', 1), ('b', 2)]\n"
     ]
    }
   ],
   "source": [
    "import itertools\n",
    "list_1=[\"a\",\"b\"]\n",
    "list_2=[1,2]\n",
    "out = itertools.product(list_1,list_2)\n",
    "out_list=[]\n",
    "for pair in out:\n",
    "    out_list.append(pair)\n",
    "print(out_list)"
   ]
  },
  {
   "cell_type": "markdown",
   "id": "25199af5",
   "metadata": {},
   "source": [
    "**36-Remove all the occurrences of an element from a list in Python (Input : 1 1 2 3 4 5 1 2 1 \n",
    "\n",
    "**Output : 2 3 4 5 2)"
   ]
  },
  {
   "cell_type": "code",
   "execution_count": 2,
   "id": "6dc4c2ba",
   "metadata": {},
   "outputs": [
    {
     "name": "stdout",
     "output_type": "stream",
     "text": [
      "22345\n"
     ]
    }
   ],
   "source": [
    "inp=\"112345121\"\n",
    "dic={}\n",
    "for x in inp:\n",
    "    if x in dic:\n",
    "        dic[x]+=1\n",
    "    else:\n",
    "        dic[x]=1\n",
    "max_ch=max(dic,key=dic.get)\n",
    "del dic[max_ch]\n",
    "remain_chars=''.join([k*v for k,v in dic.items()])\n",
    "#بعد مالايتيم تحولها لتابلز فبتشتغل ال نيه فالفي علي انها تضرب او تضعف العدد لو اتنين وتريبل لو تلاته ->('a', 2), it will generate 'aa'\n",
    "print(remain_chars)"
   ]
  },
  {
   "cell_type": "markdown",
   "id": "bf1a3c93",
   "metadata": {},
   "source": [
    "**37-write a python program to Replace index elements with elements in Other List (The original list 1 is : [‘Gfg’, ‘is’, ‘best’] The original list 2 is : [0, 1, 2, 1, 0, 0, 0, 2, 1, 1, 2, 0] The lists after index elements replacements is : [‘Gfg’, ‘is’, ‘best’, ‘is’, ‘Gfg’, ‘Gfg’, ‘Gfg’, ‘best’, ‘is’, ‘is’, ‘best’, ‘Gfg’])"
   ]
  },
  {
   "cell_type": "code",
   "execution_count": 153,
   "id": "fdd66a71",
   "metadata": {},
   "outputs": [
    {
     "name": "stdout",
     "output_type": "stream",
     "text": [
      "['Gfg', 'is', 'best', 'is', 'Gfg', 'Gfg', 'Gfg', 'best', 'is', 'is', 'Gfg']\n"
     ]
    }
   ],
   "source": [
    "list_1=['Gfg', 'is', 'best']\n",
    "list_2=[0,1,2,1,0,0,0,2,1,1,0]\n",
    "for i in range(len(list_2)):\n",
    "        list_2[i]=list_1[list_2[i]]\n",
    "print(list_2)"
   ]
  },
  {
   "cell_type": "markdown",
   "id": "af0f56e8",
   "metadata": {},
   "source": [
    "**38- write python program to Retain records with N occurrences of K(Input : test_list = [(4, 5, 5, 4), (5, 4, 3)], K = 5, N = 2 \n",
    "Output : [(4, 5, 5, 4)]\n",
    "Input : test_list = [(4, 5, 5, 4), (5, 4, 3)], K = 5, N = 3 \n",
    "Output : [] )"
   ]
  },
  {
   "cell_type": "code",
   "execution_count": 162,
   "id": "67b06671",
   "metadata": {},
   "outputs": [
    {
     "name": "stdout",
     "output_type": "stream",
     "text": [
      "[]\n"
     ]
    }
   ],
   "source": [
    "test_list = [(4, 5, 5, 4), (5, 4, 3)]\n",
    "K = 5\n",
    "n = 3\n",
    "fou=False\n",
    "for tup in test_list:\n",
    "    k_count=tup.count(K)\n",
    "    if k_count==n:\n",
    "        print(tup)\n",
    "        fou=True\n",
    "if not fou:\n",
    "    print([])\n",
    "\n"
   ]
  },
  {
   "cell_type": "markdown",
   "id": "de76f183",
   "metadata": {},
   "source": [
    "**39-write a Python Program to Sort the list according to the column using lambda\n",
    "array = [[1, 3, 3], [2, 1, 2], [3, 2, 1]]\n",
    "Output :\n",
    "Sorted array specific to column 0, [[1, 3, 3], [2, 1, 2], [3, 2, 1]]\n",
    "Sorted array specific to column 1, [[2, 1, 2], [3, 2, 1], [1, 3, 3]]\n",
    "Sorted array specific to column 2, [[3, 2, 1], [2, 1, 2], [1, 3, 3]]"
   ]
  },
  {
   "cell_type": "code",
   "execution_count": 169,
   "id": "dc883308",
   "metadata": {},
   "outputs": [
    {
     "name": "stdout",
     "output_type": "stream",
     "text": [
      "0 [[1, 3, 3], [2, 1, 2], [3, 2, 1]]\n",
      "1 [[2, 1, 2], [3, 2, 1], [1, 3, 3]]\n",
      "2 [[3, 2, 1], [2, 1, 2], [1, 3, 3]]\n"
     ]
    }
   ],
   "source": [
    "array = [[1, 3, 3], [2, 1, 2], [3, 2, 1]]\n",
    "\n",
    "sort_0=sorted(array,key=lambda x:x[0])\n",
    "print(f\"0 {sort_0}\")\n",
    "sort_1=sorted(array,key=lambda x:x[1])\n",
    "print(f\"1 {sort_1}\")\n",
    "sort_2=sorted(array,key=lambda x:x[2])\n",
    "print(f\"2 {sort_2}\")\n"
   ]
  },
  {
   "cell_type": "markdown",
   "id": "d2e7b31f",
   "metadata": {},
   "source": [
    "**40- write a program to Sort Python Dictionaries by Key or Value\n",
    "Input:\n",
    "{'ravi': 10, 'rajnish': 9, 'sanjeev': 15, 'yash': 2, 'suraj': 32}\n",
    "\n",
    "Output: \n",
    "{'rajnish': 9, 'ravi': 10, 'sanjeev': 15, 'suraj': 32, 'yash': 2}"
   ]
  },
  {
   "cell_type": "code",
   "execution_count": 175,
   "id": "a96db4a0",
   "metadata": {},
   "outputs": [
    {
     "name": "stdout",
     "output_type": "stream",
     "text": [
      "{'yash': 2}\n",
      "{'rajnish': 9}\n",
      "{'ravi': 10}\n",
      "{'sanjeev': 15}\n",
      "{'suraj': 32}\n"
     ]
    }
   ],
   "source": [
    "dic={'ravi': 10, 'rajnish': 9, 'sanjeev': 15, 'yash': 2, 'suraj': 32}\n",
    "sort_dic=sorted(dic,key=lambda x:dic[x])\n",
    "for key in sort_dic:\n",
    " print({key:dic[key]})"
   ]
  },
  {
   "cell_type": "markdown",
   "id": "ec63c23a",
   "metadata": {},
   "source": [
    "**41-write python program to Remove keys with Values Greater than K ( Including mixed values )\n",
    "nput : test_dict = {‘Gfg’ : 3, ‘is’ : 7, ‘best’ : 10, ‘for’ : 6, ‘geeks’ : ‘CS’},\n",
    "K = 7 \n",
    "Output : {‘Gfg’ : 3, ‘for’ : 6, ‘geeks’ : ‘CS’}"
   ]
  },
  {
   "cell_type": "code",
   "execution_count": 185,
   "id": "e39c3a40",
   "metadata": {},
   "outputs": [
    {
     "name": "stdout",
     "output_type": "stream",
     "text": [
      "{'Gfg': 3, 'for': 6}\n"
     ]
    }
   ],
   "source": [
    "test_dict = {\"Gfg\": 3, \"is\": 7, \"best\": 10, \"for\": 6, \"geeks\": \"CS\"}\n",
    "K = 7\n",
    "result = {}\n",
    "\n",
    "for key in test_dict:\n",
    "    if isinstance(test_dict[key], int) and test_dict[key] < K:\n",
    "        result[key] = test_dict[key]\n",
    "\n",
    "print(result)\n"
   ]
  },
  {
   "cell_type": "markdown",
   "id": "f143f0fe",
   "metadata": {},
   "source": [
    "**42-Write a Python program to concatenate the following dictionaries to create a new one\n",
    "\n",
    "Sample Dictionary :\n",
    "dic1={1:10, 2:20}\n",
    "dic2={3:30, 4:40}\n",
    "dic3={5:50,6:60}\n",
    "Expected Result : {1: 10, 2: 20, 3: 30, 4: 40, 5: 50, 6: 60}"
   ]
  },
  {
   "cell_type": "code",
   "execution_count": 187,
   "id": "74ffdfea",
   "metadata": {},
   "outputs": [
    {
     "name": "stdout",
     "output_type": "stream",
     "text": [
      "{1: 10, 2: 20, 3: 30, 4: 40, 5: 50, 6: 60}\n"
     ]
    }
   ],
   "source": [
    "dic1={1:10, 2:20}\n",
    "dic2={3:30, 4:40}\n",
    "dic3={5:50,6:60}\n",
    "fi_dict={}\n",
    "fi_dict.update(dic1)\n",
    "fi_dict.update(dic2)\n",
    "fi_dict.update(dic3)\n",
    "print(fi_dict)"
   ]
  },
  {
   "cell_type": "markdown",
   "id": "fb04c93c",
   "metadata": {},
   "source": [
    "**43-Write a Python program to iterate over dictionaries using for loops"
   ]
  },
  {
   "cell_type": "code",
   "execution_count": 188,
   "id": "6aebc470",
   "metadata": {},
   "outputs": [
    {
     "name": "stdout",
     "output_type": "stream",
     "text": [
      "key: Gfg value: 3\n",
      "key: is value: 7\n",
      "key: best value: 10\n",
      "key: for value: 6\n",
      "key: geeks value: CS\n"
     ]
    }
   ],
   "source": [
    "test_dict = {\"Gfg\": 3, \"is\": 7, \"best\": 10, \"for\": 6, \"geeks\": \"CS\"}\n",
    "for key,val in test_dict.items():\n",
    "    print(f\"key: {key} value: {val}\")"
   ]
  },
  {
   "cell_type": "markdown",
   "id": "5f491a9d",
   "metadata": {},
   "source": [
    "**44- Write a Python script to merge two Python dictionaries"
   ]
  },
  {
   "cell_type": "code",
   "execution_count": 190,
   "id": "b8a14028",
   "metadata": {},
   "outputs": [
    {
     "name": "stdout",
     "output_type": "stream",
     "text": [
      "{'a': 1, 'b': 2, 'c': 3, 'd': 4}\n"
     ]
    }
   ],
   "source": [
    "dic1={'a':1 , 'b':2}\n",
    "dic2={'c':3 ,'d':4}\n",
    "dic_merg={}\n",
    "dic_merg.update(dic1)\n",
    "dic_merg.update(dic2)\n",
    "print(dic_merg)"
   ]
  },
  {
   "cell_type": "markdown",
   "id": "216fc72d",
   "metadata": {},
   "source": [
    "**45-Write a Python program to get the maximum and minimum values of a dictionary values"
   ]
  },
  {
   "cell_type": "code",
   "execution_count": 192,
   "id": "d6883f5f",
   "metadata": {},
   "outputs": [
    {
     "name": "stdout",
     "output_type": "stream",
     "text": [
      "4\n"
     ]
    }
   ],
   "source": [
    "dic={'a':1 , 'b':2 , 'c':3 ,'d':4}\n",
    "max_val=max(dic.values())\n",
    "print(max_val)"
   ]
  },
  {
   "cell_type": "markdown",
   "id": "b6a53011",
   "metadata": {},
   "source": [
    "**46- Write a Python program to drop empty items from a given dictionary.\n",
    "Original Dictionary:\n",
    "{'c1': 'Red', 'c2': 'Green', 'c3': None}\n",
    "New Dictionary after dropping empty items:\n",
    "{'c1': 'Red', 'c2': 'Green'}"
   ]
  },
  {
   "cell_type": "code",
   "execution_count": 207,
   "id": "b5c6fecf",
   "metadata": {},
   "outputs": [
    {
     "name": "stdout",
     "output_type": "stream",
     "text": [
      "{'c1': 'Red', 'c2': 'Green', 'c3': None}\n"
     ]
    }
   ],
   "source": [
    "test_dict={'c1': 'Red', 'c2': 'Green', 'c3': None}\n",
    "\n",
    "for key,value in list(test_dict.items()):\n",
    "    if value is None:\n",
    "        del test_dict[key]\n",
    "print(test_dict)\n",
    "\n",
    "\n",
    "\n",
    "# filt_dict={key: value for key , value in test_dict.items() if value is not None }\n",
    "# print(filt_dict) "
   ]
  },
  {
   "cell_type": "markdown",
   "id": "46d718c7",
   "metadata": {},
   "source": [
    "**47-Write a Python program to create a tuple of numbers and print one item"
   ]
  },
  {
   "cell_type": "code",
   "execution_count": 210,
   "id": "13216ff5",
   "metadata": {},
   "outputs": [
    {
     "name": "stdout",
     "output_type": "stream",
     "text": [
      "3\n"
     ]
    }
   ],
   "source": [
    "tup=tuple(input(\"\"))\n",
    "print(tup[2])"
   ]
  },
  {
   "cell_type": "markdown",
   "id": "2be5b56b",
   "metadata": {},
   "source": [
    "**48-Write a Python program to unpack a tuple into several variables"
   ]
  },
  {
   "cell_type": "code",
   "execution_count": 212,
   "id": "595f44be",
   "metadata": {},
   "outputs": [
    {
     "name": "stdout",
     "output_type": "stream",
     "text": [
      "Emam: 22 \n",
      "Khraba: 7 \n",
      "Menaem: 24\n"
     ]
    }
   ],
   "source": [
    "tup=('22','7','24')\n",
    "Emam,khraba,Menaem=tup\n",
    "print(f\"Emam: {Emam} \\nKhraba: {khraba} \\nMenaem: {Menaem}\")"
   ]
  },
  {
   "cell_type": "markdown",
   "id": "392388a7",
   "metadata": {},
   "source": [
    "**49-Write a Python program to add an item to a tuple"
   ]
  },
  {
   "cell_type": "code",
   "execution_count": 215,
   "id": "54cc092e",
   "metadata": {},
   "outputs": [
    {
     "name": "stdout",
     "output_type": "stream",
     "text": [
      "('22', '7', '24', '3')\n"
     ]
    }
   ],
   "source": [
    "tup=('22','7','24')\n",
    "tup_t_list=list(tup)\n",
    "tup_t_list.append('3')\n",
    "n_tup=tuple(tup_t_list)\n",
    "print(n_tup)"
   ]
  },
  {
   "cell_type": "markdown",
   "id": "3e8fd124",
   "metadata": {},
   "source": [
    "**50-Write a Python program to convert a tuple to a string"
   ]
  },
  {
   "cell_type": "code",
   "execution_count": 217,
   "id": "92a71ddc",
   "metadata": {},
   "outputs": [
    {
     "name": "stdout",
     "output_type": "stream",
     "text": [
      "(3, 2, 24, 6, 22)\n"
     ]
    }
   ],
   "source": [
    "tup=(3,2,24,6,22)\n",
    "tup_str=str(tup)\n",
    "print(tup_str)"
   ]
  },
  {
   "cell_type": "markdown",
   "id": "f4f64ef4",
   "metadata": {},
   "source": [
    "**51-Write a Python program to convert a list to a tuple"
   ]
  },
  {
   "cell_type": "code",
   "execution_count": 218,
   "id": "210d56d3",
   "metadata": {},
   "outputs": [
    {
     "name": "stdout",
     "output_type": "stream",
     "text": [
      "(32, 43, 564, 342, 12)\n"
     ]
    }
   ],
   "source": [
    "lis=[32,43,564,342,12]\n",
    "lis_tup=tuple(lis)\n",
    "print(lis_tup)"
   ]
  },
  {
   "cell_type": "markdown",
   "id": "b1e00ef7",
   "metadata": {},
   "source": [
    "**52-Write a Python program to reverse a tuple"
   ]
  },
  {
   "cell_type": "code",
   "execution_count": 219,
   "id": "f45bfdc7",
   "metadata": {},
   "outputs": [
    {
     "name": "stdout",
     "output_type": "stream",
     "text": [
      "(12, 342, 564, 43, 32)\n"
     ]
    }
   ],
   "source": [
    "tup=(32,43,564,342,12)\n",
    "rev_tup=list(tup)\n",
    "rev_tup.reverse()\n",
    "rev=tuple(rev_tup)\n",
    "print(rev)"
   ]
  },
  {
   "cell_type": "markdown",
   "id": "3cd347d1",
   "metadata": {},
   "source": [
    "**53-Write a Python program to replace the last value of tuples in a list.\n",
    "Sample list: [(10, 20, 40), (40, 50, 60), (70, 80, 90)]\n",
    "Expected Output: [(10, 20, 100), (40, 50, 100), (70, 80, 100)]"
   ]
  },
  {
   "cell_type": "code",
   "execution_count": 2,
   "id": "3c4a2a4c",
   "metadata": {},
   "outputs": [
    {
     "name": "stdout",
     "output_type": "stream",
     "text": [
      "[(10, 20, 100), (40, 50, 100), (70, 80, 100)]\n"
     ]
    }
   ],
   "source": [
    "Sample_list= [(10, 20, 40), (40, 50, 60), (70, 80, 90)]\n",
    "new_val=100\n",
    "Sample_list=[(tup[0],tup[1],new_val) for tup in Sample_list]\n",
    "print(Sample_list)"
   ]
  },
  {
   "cell_type": "markdown",
   "id": "76bb7b39",
   "metadata": {},
   "source": [
    "**54-Write a Python program to convert a given string list to a tuple\n",
    "Original string: python 3.0\n",
    "<class 'str'>\n",
    "Convert the said string to a tuple:\n",
    "('p', 'y', 't', 'h', 'o', 'n', '3', '.', '0')"
   ]
  },
  {
   "cell_type": "code",
   "execution_count": 3,
   "id": "51951937",
   "metadata": {},
   "outputs": [
    {
     "name": "stdout",
     "output_type": "stream",
     "text": [
      "('p', 'y', 't', 'h', 'o', 'n', '3', '.', '0')\n"
     ]
    }
   ],
   "source": [
    "str_list=['p', 'y', 't', 'h', 'o', 'n', '3', '.', '0']\n",
    "str_tup=tuple(str_list)\n",
    "print(str_tup)"
   ]
  },
  {
   "cell_type": "markdown",
   "id": "5a1d5d97",
   "metadata": {},
   "source": [
    "**55-Write a Python program to calculate the average value of the numbers in a given tuple of tuples"
   ]
  },
  {
   "cell_type": "code",
   "execution_count": 13,
   "id": "834e7992",
   "metadata": {},
   "outputs": [
    {
     "name": "stdout",
     "output_type": "stream",
     "text": [
      "22.545454545454547\n"
     ]
    }
   ],
   "source": [
    "tup=((32,4,21),(4,3,8,98),23,3,(21,31))\n",
    "lis=[]\n",
    "for x in tup:\n",
    "    if isinstance(x,tuple):\n",
    "        lis.extend(x)\n",
    "    else:\n",
    "        lis.append(x)\n",
    "sum_ele=sum(lis)\n",
    "avg=sum_ele/len(lis)\n",
    "print(avg)"
   ]
  },
  {
   "cell_type": "markdown",
   "id": "51edab9c",
   "metadata": {},
   "source": [
    "**56-Write a Python program to add member(s) to a set."
   ]
  },
  {
   "cell_type": "code",
   "execution_count": 14,
   "id": "2b65df79",
   "metadata": {},
   "outputs": [
    {
     "name": "stdout",
     "output_type": "stream",
     "text": [
      "{1, 2, 3, 4, 5, 6, 7, 8, 99}\n"
     ]
    }
   ],
   "source": [
    "se=(1,2,3,4,5,6,7,8)\n",
    "x=99\n",
    "se_lis=list(se)\n",
    "se_lis.append(x)\n",
    "s_out=set(se_lis)\n",
    "print(s_out)"
   ]
  },
  {
   "cell_type": "markdown",
   "id": "965590cc",
   "metadata": {},
   "source": [
    "**57-Write a Python program to remove an item from a set if it is present in the set."
   ]
  },
  {
   "cell_type": "code",
   "execution_count": 19,
   "id": "866bab28",
   "metadata": {},
   "outputs": [
    {
     "name": "stdout",
     "output_type": "stream",
     "text": [
      "{1, 2, 3, 4, 6, 7, 8}\n"
     ]
    }
   ],
   "source": [
    "se=(1,2,3,4,5,6,7,8)\n",
    "s_lis=list(se)\n",
    "x=5\n",
    "if x in s_lis:\n",
    "    s_lis.remove(x)\n",
    "out_se=set(s_lis)\n",
    "print(out_se)"
   ]
  },
  {
   "cell_type": "markdown",
   "id": "2b7cfed1",
   "metadata": {},
   "source": [
    "**58-Write a Python program to create an intersection,union,difference and symmetric difference of sets"
   ]
  },
  {
   "cell_type": "code",
   "execution_count": 2,
   "id": "7f94b7fe",
   "metadata": {},
   "outputs": [
    {
     "name": "stdout",
     "output_type": "stream",
     "text": [
      "union : {32, 67, 9, 43, 13, 21, 23, 56, 665, 122}\n",
      "intersection : {56, 122, 21}\n",
      "symmetric diff : {32, 67, 9, 43, 13, 23, 665}\n"
     ]
    }
   ],
   "source": [
    "x={43,56,21,665,122,13}\n",
    "y={21,23,56,9,67,122,32}\n",
    "print(f\"union : {x.union(y)}\")\n",
    "print(f\"intersection : {x.intersection(y)}\")\n",
    "print(f\"symmetric diff : {x.symmetric_difference(y)}\")"
   ]
  },
  {
   "cell_type": "markdown",
   "id": "b94931e2",
   "metadata": {},
   "source": [
    "**59-Write a Python program to find the maximum and minimum values in a set"
   ]
  },
  {
   "cell_type": "code",
   "execution_count": 16,
   "id": "203f9600",
   "metadata": {},
   "outputs": [
    {
     "name": "stdout",
     "output_type": "stream",
     "text": [
      "max value : 665 \n",
      "min value : 13\n"
     ]
    }
   ],
   "source": [
    "x={43,56,21,665,122,13}\n",
    "max_val=max(x)\n",
    "min_val=min(x)\n",
    "print(f\"max value : {max_val} \\nmin value : {min_val}\")"
   ]
  },
  {
   "cell_type": "markdown",
   "id": "255fd554",
   "metadata": {},
   "source": [
    "**60- Write a Python program that finds all pairs of elements in a list whose sum is equal to a given value."
   ]
  },
  {
   "cell_type": "code",
   "execution_count": 15,
   "id": "c2d94e1f",
   "metadata": {},
   "outputs": [
    {
     "name": "stdout",
     "output_type": "stream",
     "text": [
      "[665, 13]\n"
     ]
    }
   ],
   "source": [
    "x={43,56,21,665,122,13}\n",
    "y=678\n",
    "found =False\n",
    "\n",
    "\n",
    "# for i in x:\n",
    "#     for h in x:\n",
    "#         if i+h==y:\n",
    "#             print([i,h])\n",
    "#             found = True\n",
    "            \n",
    "#     if found:\n",
    "#         break\n",
    "# if  not found:\n",
    "#     print(f\"Not found two pairs suumation = {y}\")\n",
    "\n",
    "\n",
    "left=0\n",
    "rigt=len(x)-1\n",
    "while left < rigt:\n",
    "    c_sum=list(x)[left]+list(x)[rigt]\n",
    "    if c_sum == y:\n",
    "        print([list(x)[left],list(x)[rigt]])\n",
    "        found = True\n",
    "        break\n",
    "    elif c_sum <y:\n",
    "        left+=1\n",
    "    else:\n",
    "        rigt-=1\n",
    "if not found:\n",
    "    print(f\"Not found two pairs suumation = {y}\")"
   ]
  }
 ],
 "metadata": {
  "kernelspec": {
   "display_name": "Python 3 (ipykernel)",
   "language": "python",
   "name": "python3"
  },
  "language_info": {
   "codemirror_mode": {
    "name": "ipython",
    "version": 3
   },
   "file_extension": ".py",
   "mimetype": "text/x-python",
   "name": "python",
   "nbconvert_exporter": "python",
   "pygments_lexer": "ipython3",
   "version": "3.12.0"
  }
 },
 "nbformat": 4,
 "nbformat_minor": 5
}
